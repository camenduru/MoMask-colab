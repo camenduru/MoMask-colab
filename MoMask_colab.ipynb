{
  "cells": [
    {
      "cell_type": "markdown",
      "metadata": {
        "id": "view-in-github"
      },
      "source": [
        "[![Open In Colab](https://colab.research.google.com/assets/colab-badge.svg)](https://colab.research.google.com/github/camenduru/MoMask-colab/blob/main/MoMask_colab.ipynb)"
      ]
    },
    {
      "cell_type": "code",
      "execution_count": null,
      "metadata": {
        "id": "VjYy0F2gZIPR"
      },
      "outputs": [],
      "source": [
        "%cd /content\n",
        "!git clone -b dev https://github.com/camenduru/MoMask-hf\n",
        "%cd /content/MoMask-hf\n",
        "\n",
        "!pip install -q gradio==3.50.2 git+https://github.com/openai/CLIP einops matplotlib==3.3.4\n",
        "# !pip install -q chumpy einops fastapi ffmpy ftfy gradio gradio_client h11 httpcore httpx orjson trimesh vector-quantize-pytorch\n",
        "\n",
        "# !sh prepare/download_evaluator.sh\n",
        "# !sh prepare/download_glove.sh\n",
        "# !sh prepare/download_models.sh\n",
        "!sh prepare/download_models_demo.sh\n",
        "\n",
        "# !python gen_t2m.py --gpu_id 0 --ext exp1 --text_prompt \"A person is running on a treadmill.\"\n",
        "\n",
        "%cd /content/MoMask-hf\n",
        "!python app.py"
      ]
    }
  ],
  "metadata": {
    "accelerator": "GPU",
    "colab": {
      "gpuType": "T4",
      "provenance": []
    },
    "kernelspec": {
      "display_name": "Python 3",
      "name": "python3"
    },
    "language_info": {
      "name": "python"
    }
  },
  "nbformat": 4,
  "nbformat_minor": 0
}
